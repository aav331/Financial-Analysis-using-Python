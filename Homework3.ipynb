{
 "cells": [
  {
   "cell_type": "code",
   "execution_count": 24,
   "metadata": {},
   "outputs": [],
   "source": [
    "# Comments within blocks of code start with a # sign and continue until the end of the line\n",
    "import numpy as np\n",
    "from math import log, sqrt, exp\n",
    "from scipy import stats\n",
    "from IPython.display import Image\n",
    "from IPython.core.display import HTML\n",
    "import pandas_datareader as pd_dr\n",
    "import scipy\n",
    "from scipy import *\n",
    "from pandas_datareader import *\n",
    "import pandas as pd\n",
    "from lxml import html  \n",
    "import requests\n",
    "# from exceptions import ValueError\n",
    "from time import sleep\n",
    "import json\n",
    "import argparse\n",
    "from collections import OrderedDict\n",
    "from time import sleep\n",
    "import pandas as pd\n",
    "import numpy as np"
   ]
  },
  {
   "cell_type": "markdown",
   "metadata": {},
   "source": [
    "### Topic 6: Equity Valuation\n",
    "\n",
    "#### 1. Suppose that the consensus forecast of security analysts of your favorite company is that earnings next year will be E1 = 5.00 dollars per share. Suppose that the company tends to plow back 50% of its earnings and pay the rest as dividends. If the Chief Financial Officer (CFO) estimates that the company’s growth rate will be 8% from now onwards, answer the following questions.\n",
    "\n",
    "##### (a) If your estimate of the company’s required rate of return on its stock is 10%, what is the equilibrium price of the stock?"
   ]
  },
  {
   "cell_type": "markdown",
   "metadata": {},
   "source": [
    "The equilibrium price of a stock can be determined using Gordon’s growth formula as\n",
    "follows:"
   ]
  },
  {
   "cell_type": "code",
   "execution_count": 11,
   "metadata": {
    "collapsed": true
   },
   "outputs": [],
   "source": [
    "b = 0.5 # plow back ratio\n",
    "R = 0.10 # required rate of return\n",
    "g = 0.08 # growth rate\n",
    "E1 = 5.00"
   ]
  },
  {
   "cell_type": "code",
   "execution_count": 12,
   "metadata": {},
   "outputs": [
    {
     "data": {
      "text/plain": [
       "124.99999999999997"
      ]
     },
     "execution_count": 12,
     "metadata": {},
     "output_type": "execute_result"
    }
   ],
   "source": [
    "P0 = E1*(1-b)/(R-g)\n",
    "P0"
   ]
  },
  {
   "cell_type": "markdown",
   "metadata": {},
   "source": [
    "##### (b) Suppose you observe that the stock is selling for 50.00 dollars per share, and that this is the best estimate of its equilibrium price. What would you conclude about either (i) your estimate of the stock’s required rate of return; or (ii) the CFO’s estimate of the company’s future growth rate?\n",
    "\n",
    "Recall from the formula above, that a higher required rate of return implies a lower\n",
    "equilibrium price of the stock. On the other hand, a higher growth rate implies a higher\n",
    "stock price. Thus, a lower equilibrium stock price (50 < 125) could indicate that\n",
    "either: (1) the required rate of return is higher than originally expected, and/or (2) the\n",
    "growth rate is less than originally estimated."
   ]
  },
  {
   "cell_type": "markdown",
   "metadata": {},
   "source": [
    "##### (c) Suppose your own 10% estimate of the stock’s required rate of return is shared by the rest of the market. What does the market price of 50.00 dollars per share imply about the market’s estimate of the company’s growth rate?\n",
    "\n",
    "To solve for the expected growth rate, use Gordon’s growth model:"
   ]
  },
  {
   "cell_type": "code",
   "execution_count": 13,
   "metadata": {
    "collapsed": true
   },
   "outputs": [],
   "source": [
    "P0 = 50\n",
    "E1 = 5\n",
    "b = 0.5\n",
    "R = 0.1"
   ]
  },
  {
   "cell_type": "code",
   "execution_count": 14,
   "metadata": {
    "collapsed": true
   },
   "outputs": [],
   "source": [
    "g = R-(E1*(1-b)/P0)"
   ]
  },
  {
   "cell_type": "code",
   "execution_count": 15,
   "metadata": {},
   "outputs": [
    {
     "data": {
      "text/plain": [
       "0.05"
      ]
     },
     "execution_count": 15,
     "metadata": {},
     "output_type": "execute_result"
    }
   ],
   "source": [
    "g"
   ]
  },
  {
   "cell_type": "markdown",
   "metadata": {},
   "source": [
    "#### 2. This question requires data collection. You can find all numbers on http://finance.yahoo.com.\n",
    "#### The questions concern Microsoft (ticker: MSFT)."
   ]
  },
  {
   "cell_type": "code",
   "execution_count": 25,
   "metadata": {},
   "outputs": [],
   "source": [
    "def parse(ticker):\n",
    "\turl = \"http://finance.yahoo.com/quote/%s?p=%s\"%(ticker,ticker)\n",
    "\tresponse = requests.get(url)\n",
    "\tprint(\"Parsing \", url)\n",
    "\tsleep(4)\n",
    "\tparser = html.fromstring(response.text)\n",
    "\tsummary_table = parser.xpath('//div[contains(@data-test,\"summary-table\")]//tr')\n",
    "\tsummary_data = OrderedDict()\n",
    "\tother_details_json_link = \"https://query2.finance.yahoo.com/v10/finance/quoteSummary/{0}?formatted=true&lang=en-US&region=US&modules=summaryProfile%2CfinancialData%2CrecommendationTrend%2CupgradeDowngradeHistory%2Cearnings%2CdefaultKeyStatistics%2CcalendarEvents&corsDomain=finance.yahoo.com\".format(ticker)\n",
    "\tsummary_json_response = requests.get(other_details_json_link)\n",
    "\ttry:\n",
    "\t\tjson_loaded_summary =  json.loads(summary_json_response.text)\n",
    "\t\ty_Target_Est = json_loaded_summary[\"quoteSummary\"][\"result\"][0][\"financialData\"][\"targetMeanPrice\"]['raw']\n",
    "\t\tearnings_list = json_loaded_summary[\"quoteSummary\"][\"result\"][0][\"calendarEvents\"]['earnings']\n",
    "\t\teps = json_loaded_summary[\"quoteSummary\"][\"result\"][0][\"defaultKeyStatistics\"][\"trailingEps\"]['raw']\n",
    "\t\tbeta = json_loaded_summary[\"quoteSummary\"][\"result\"][0][\"defaultKeyStatistics\"][\"beta\"]['raw']\n",
    "\t\tcurrent_price = json_loaded_summary[\"quoteSummary\"][\"result\"][0][\"financialData\"][\"currentPrice\"]['raw']\n",
    "\t\tprice_to_book_ratio = json_loaded_summary[\"quoteSummary\"][\"result\"][0][\"defaultKeyStatistics\"][\"priceToBook\"]['raw']\n",
    "\t\tdatelist = []\n",
    "\t\tfor i in earnings_list['earningsDate']:\n",
    "\t\t\tdatelist.append(i['fmt'])\n",
    "\t\tearnings_date = ' to '.join(datelist)\n",
    "\t\tfor table_data in summary_table:\n",
    "\t\t\traw_table_key = table_data.xpath('.//td[@class=\"C(black)\"]//text()')\n",
    "\t\t\traw_table_value = table_data.xpath('.//td[contains(@class,\"Ta(end)\")]//text()')\n",
    "\t\t\ttable_key = ''.join(raw_table_key).strip()\n",
    "\t\t\ttable_value = ''.join(raw_table_value).strip()\n",
    "\t\t\tsummary_data.update({table_key:table_value})\n",
    "\t\tsummary_data.update({'1yr Target Est':y_Target_Est,'EPS (TTM)':eps,'Earnings Date':earnings_date,'ticker':ticker,'url':url,'Beta':beta,'Current Price':current_price,'Price/Book':price_to_book_ratio})\n",
    "\t\treturn summary_data\n",
    "\texcept ValueError:\n",
    "\t\tprint(\"Failed to parse json response\")\n",
    "\t\treturn {\"error\":\"Failed to parse json response\"}\n",
    "    \n"
   ]
  },
  {
   "cell_type": "code",
   "execution_count": 26,
   "metadata": {},
   "outputs": [
    {
     "name": "stdout",
     "output_type": "stream",
     "text": [
      "Parsing  http://finance.yahoo.com/quote/msft?p=msft\n"
     ]
    },
    {
     "data": {
      "text/plain": [
       "'91.65'"
      ]
     },
     "execution_count": 26,
     "metadata": {},
     "output_type": "execute_result"
    }
   ],
   "source": [
    "ans = parse('msft')\n",
    "ans.pop('')"
   ]
  },
  {
   "cell_type": "code",
   "execution_count": 27,
   "metadata": {},
   "outputs": [
    {
     "data": {
      "text/html": [
       "<div>\n",
       "<style>\n",
       "    .dataframe thead tr:only-child th {\n",
       "        text-align: right;\n",
       "    }\n",
       "\n",
       "    .dataframe thead th {\n",
       "        text-align: left;\n",
       "    }\n",
       "\n",
       "    .dataframe tbody tr th {\n",
       "        vertical-align: top;\n",
       "    }\n",
       "</style>\n",
       "<table border=\"1\" class=\"dataframe\">\n",
       "  <thead>\n",
       "    <tr style=\"text-align: right;\">\n",
       "      <th></th>\n",
       "      <th>1yr Target Est</th>\n",
       "      <th>EPS (TTM)</th>\n",
       "      <th>Earnings Date</th>\n",
       "      <th>ticker</th>\n",
       "      <th>url</th>\n",
       "      <th>Beta</th>\n",
       "      <th>Current Price</th>\n",
       "      <th>Price/Book</th>\n",
       "    </tr>\n",
       "  </thead>\n",
       "  <tbody>\n",
       "    <tr>\n",
       "      <th>1</th>\n",
       "      <td>91.65</td>\n",
       "      <td>2.71</td>\n",
       "      <td>2018-01-24 to 2018-01-29</td>\n",
       "      <td>msft</td>\n",
       "      <td>http://finance.yahoo.com/quote/msft?p=msft</td>\n",
       "      <td>1.44749</td>\n",
       "      <td>82.4651</td>\n",
       "      <td>8.78036</td>\n",
       "    </tr>\n",
       "  </tbody>\n",
       "</table>\n",
       "</div>"
      ],
      "text/plain": [
       "0 1yr Target Est EPS (TTM)             Earnings Date ticker  \\\n",
       "1          91.65      2.71  2018-01-24 to 2018-01-29   msft   \n",
       "\n",
       "0                                         url     Beta Current Price  \\\n",
       "1  http://finance.yahoo.com/quote/msft?p=msft  1.44749       82.4651   \n",
       "\n",
       "0 Price/Book  \n",
       "1    8.78036  "
      ]
     },
     "execution_count": 27,
     "metadata": {},
     "output_type": "execute_result"
    }
   ],
   "source": [
    "d = pd.DataFrame(list(ans.items()))\n",
    "d1=d.T\n",
    "d1.columns = d1.iloc[0]\n",
    "d1=d1.reindex(d1.index.drop(0))\n",
    "d1"
   ]
  },
  {
   "cell_type": "code",
   "execution_count": 28,
   "metadata": {},
   "outputs": [
    {
     "data": {
      "text/plain": [
       "'1.56'"
      ]
     },
     "execution_count": 28,
     "metadata": {},
     "output_type": "execute_result"
    }
   ],
   "source": [
    "import requests\n",
    "from bs4 import BeautifulSoup\n",
    "\n",
    "url = \"https://finance.yahoo.com/quote/MSFT/key-statistics?p=MSFT\"\n",
    "url_response = requests.get(url)\n",
    "soup = BeautifulSoup(url_response.text,'lxml')\n",
    "\n",
    "#bs = soup.find_all('td')\n",
    "#bs\n",
    "\n",
    "Dividend = soup.findAll(\"td\", {\"data-reactid\": \"429\"})[0].string\n",
    "Dividend "
   ]
  },
  {
   "cell_type": "code",
   "execution_count": 29,
   "metadata": {},
   "outputs": [
    {
     "data": {
      "text/plain": [
       "1    82.4651\n",
       "Name: Current Price, dtype: object"
      ]
     },
     "execution_count": 29,
     "metadata": {},
     "output_type": "execute_result"
    }
   ],
   "source": [
    "d1['Current Price']"
   ]
  },
  {
   "cell_type": "code",
   "execution_count": 30,
   "metadata": {},
   "outputs": [
    {
     "data": {
      "text/html": [
       "<div>\n",
       "<style>\n",
       "    .dataframe thead tr:only-child th {\n",
       "        text-align: right;\n",
       "    }\n",
       "\n",
       "    .dataframe thead th {\n",
       "        text-align: left;\n",
       "    }\n",
       "\n",
       "    .dataframe tbody tr th {\n",
       "        vertical-align: top;\n",
       "    }\n",
       "</style>\n",
       "<table border=\"1\" class=\"dataframe\">\n",
       "  <thead>\n",
       "    <tr style=\"text-align: right;\">\n",
       "      <th></th>\n",
       "      <th>1yr Target Est</th>\n",
       "      <th>EPS (TTM)</th>\n",
       "      <th>Earnings Date</th>\n",
       "      <th>ticker</th>\n",
       "      <th>url</th>\n",
       "      <th>Beta</th>\n",
       "      <th>Current Price</th>\n",
       "      <th>Price/Book</th>\n",
       "      <th>Price to Earnings Ratio</th>\n",
       "    </tr>\n",
       "  </thead>\n",
       "  <tbody>\n",
       "    <tr>\n",
       "      <th>1</th>\n",
       "      <td>91.65</td>\n",
       "      <td>2.71</td>\n",
       "      <td>2018-01-24 to 2018-01-29</td>\n",
       "      <td>msft</td>\n",
       "      <td>http://finance.yahoo.com/quote/msft?p=msft</td>\n",
       "      <td>1.44749</td>\n",
       "      <td>82.4651</td>\n",
       "      <td>8.78036</td>\n",
       "      <td>30.4299</td>\n",
       "    </tr>\n",
       "  </tbody>\n",
       "</table>\n",
       "</div>"
      ],
      "text/plain": [
       "0 1yr Target Est EPS (TTM)             Earnings Date ticker  \\\n",
       "1          91.65      2.71  2018-01-24 to 2018-01-29   msft   \n",
       "\n",
       "0                                         url     Beta Current Price  \\\n",
       "1  http://finance.yahoo.com/quote/msft?p=msft  1.44749       82.4651   \n",
       "\n",
       "0 Price/Book Price to Earnings Ratio  \n",
       "1    8.78036                 30.4299  "
      ]
     },
     "execution_count": 30,
     "metadata": {},
     "output_type": "execute_result"
    }
   ],
   "source": [
    "d1['Price to Earnings Ratio']=d1['Current Price']/d1['EPS (TTM)']\n",
    "d1\n"
   ]
  },
  {
   "cell_type": "markdown",
   "metadata": {},
   "source": [
    "##### (b) What is the current plow-back ratio?"
   ]
  },
  {
   "cell_type": "code",
   "execution_count": 31,
   "metadata": {},
   "outputs": [
    {
     "data": {
      "text/plain": [
       "0.4243542435424354"
      ]
     },
     "execution_count": 31,
     "metadata": {},
     "output_type": "execute_result"
    }
   ],
   "source": [
    "Dividend=Dividend[0:4]\n",
    "Dividend=float(Dividend)\n",
    "b=(d1['EPS (TTM)'].iloc[0] - Dividend)/(d1['EPS (TTM)'].iloc[0])      #b = Plowback Ratio\n",
    "b"
   ]
  },
  {
   "cell_type": "markdown",
   "metadata": {},
   "source": [
    "##### (c) What is the growth rate of earnings for the next 5 years according to the analysts?"
   ]
  },
  {
   "cell_type": "code",
   "execution_count": 23,
   "metadata": {},
   "outputs": [
    {
     "data": {
      "text/plain": [
       "'10.58%'"
      ]
     },
     "execution_count": 23,
     "metadata": {},
     "output_type": "execute_result"
    }
   ],
   "source": [
    "import requests\n",
    "from bs4 import BeautifulSoup\n",
    "\n",
    "url = \"https://finance.yahoo.com/quote/MSFT/analysts?p=MSFT\"\n",
    "url_response = requests.get(url)\n",
    "soup = BeautifulSoup(url_response.text,'lxml')\n",
    "\n",
    "soup.find_all('td')\n",
    "\n",
    "g = soup.findAll(\"td\", {\"data-reactid\": \"514\"})[0].string          #g=Growth Rate\n",
    "g"
   ]
  },
  {
   "cell_type": "markdown",
   "metadata": {},
   "source": [
    "##### (d) What is the beta of MSFT? Hint: look for \"Key Statistics\". If the risk-free rate (Rf ) is 5% and the market risk premium E[RM - Rf ] is 6%, what is the required rate of return on MSFT according to the CAPM?"
   ]
  },
  {
   "cell_type": "code",
   "execution_count": 24,
   "metadata": {},
   "outputs": [
    {
     "data": {
      "text/plain": [
       "1    1.44749\n",
       "Name: Beta, dtype: object"
      ]
     },
     "execution_count": 24,
     "metadata": {},
     "output_type": "execute_result"
    }
   ],
   "source": [
    "B = d1['Beta']\n",
    "B"
   ]
  },
  {
   "cell_type": "code",
   "execution_count": 25,
   "metadata": {},
   "outputs": [
    {
     "data": {
      "text/plain": [
       "1    0.136849\n",
       "Name: Beta, dtype: object"
      ]
     },
     "execution_count": 25,
     "metadata": {},
     "output_type": "execute_result"
    }
   ],
   "source": [
    "Rf=0.05\n",
    "RP=0.06\n",
    "ER = Rf+B*RP\n",
    "ER"
   ]
  },
  {
   "cell_type": "markdown",
   "metadata": {},
   "source": [
    "##### (e) Assume that Microsoft will have earnings and dividends that will grow at the analysts forecasted rate forever after; i.e., the Gordon growth model (GGM) applies. What is the price-earnings ratio that the GGM predicts for Microsoft?"
   ]
  },
  {
   "cell_type": "code",
   "execution_count": 26,
   "metadata": {},
   "outputs": [],
   "source": [
    "g=g[0:5]\n",
    "g=float(g)\n",
    "g=g/100"
   ]
  },
  {
   "cell_type": "code",
   "execution_count": 27,
   "metadata": {},
   "outputs": [
    {
     "data": {
      "text/plain": [
       "1    20.5012\n",
       "Name: Beta, dtype: object"
      ]
     },
     "execution_count": 27,
     "metadata": {},
     "output_type": "execute_result"
    }
   ],
   "source": [
    "PE = ((1-b)*(1+g))/(ER-g)                      #Price to Earnings Ratio\n",
    "PE"
   ]
  },
  {
   "cell_type": "markdown",
   "metadata": {},
   "source": [
    "### Topic 7: Arbitrage\n",
    "\n",
    "#### 3. The stock PolarBear.com trades on both the South Pole Stock Exchange and the North Pole Stock Exchange.\n",
    "##### (a) Suppose the price on the North Pole is 18 dollars. What does the No-Arbitrage Condition say about the price on the South Pole? (Assume no trading costs.)\n",
    "\n",
    "To rule out arbitrage, the price on the South Pole must be the same as on the North Pole, 18 dollars.\n",
    "\n",
    "##### (b) Suppose the price on the North Pole is 18 dollars and the price on the the South Pole is 17 dollars? How can you make an arbitrage profit? (Assume no trading costs.)\n",
    "\n",
    "You can make an arbitrage by buying on the the South Pole for 17 dollars and selling on the North Pole for 18 dollars. This transaction has a riskless profit of 1 dollar per share.\n",
    "\n",
    "##### (c) Suppose that the price on the North Pole is 18 dollars, that buying or selling on the North Pole costs 2 dollars, and that buying or selling on the South Pole is free. What does the No-Arbitrage Condition say about the price on the South Pole?\n",
    "\n",
    "The price on the South Pole must be between 16 dollars and 20 dollars. If the price is lower than 16 dollars then you can make an arbitrage profit, net of trading costs, by buying on the South Pole and selling on the North Pole. Similarly, you can make an arbitrage if the price is higher than 20 dollars.\n"
   ]
  },
  {
   "cell_type": "markdown",
   "metadata": {},
   "source": [
    "#### 4. Suppose that there are two securities RAIN and SUN. RAIN pays 100 dollars in there is any rain during the next world cup soccer final. SUN pays 100 dollars in there is no rain. Suppose that the world cup soccer final is 1 year from today (although this is not true), and suppose that RAIN is trading at a price of 23 dollars and SUN is trading at a price of 70 dollars.\n",
    "\n",
    "##### (a) If you buy 1 share of RAIN and 1 share of SUN, what is your payoff after 1 year, depending on the weather?\n",
    "\n",
    "If you buy 1 share of RAIN and 1 share of SUN, then your payoff after 1 year is 100 dollars, no matter what the weather is.\n",
    "\n",
    "##### (b) What does the No-Arbitrage Condition imply about the price of a 1-year zero-coupon bond? (Assume no trading costs.)\n",
    "\n",
    "A portfolio of 1 share of RAIN and 1 share of SUN replicates the payoff of a zero-coupon bond, that is, it has a sure payoff of 100 dollars just like a zero. Therefore, the zero must have the same price as the portfolio, namely 93 dollars.\n",
    "\n",
    "##### (c) Suppose that a 1-year zero-coupon bond is trading at 90 dollars. Show how you would set up a transaction to earn a riskless arbitrage profit. (Assume no trading costs.)\n",
    "\n",
    "If the 1-year zero-coupon bond is trading at 90 dollars then you can earn a riskless arbitrage profit as follows. You buy 1 zero-coupon bond, short-sell 1 RAIN, and short-sell 1 SUN. This gives you a profit of 23+70-90= 3 dollars today, and your net cash flow next year is 0, no matter what the weather is.\n",
    "\n",
    "##### (d) Suppose that trading zero-coupon bonds is costless, but trading RAIN and SUN each cost 2 dollars per 100 dollars face value. Can you still make an arbitrage profit?\n",
    "\n",
    "If trading RAIN and SUN each cost 2 dollars per share then the above strategy has a trading cost of 4 dollars. This is greater than the value of the mispricing 3 dollars. Therefore, you cannot make an arbitrage profit."
   ]
  },
  {
   "cell_type": "markdown",
   "metadata": {},
   "source": [
    "### Topic 8: Fixed Income Securities\n",
    "\n",
    "#### 5. Suppose you buy a five-year zero-coupon Treasury bond for 800 dollars per 1000 dollar face value. Answer the following questions:"
   ]
  },
  {
   "cell_type": "markdown",
   "metadata": {},
   "source": [
    "##### (a) What is the yield to maturity (annual compounding) on the bond?\n",
    "\n",
    "With F=face value, P=purchase price and t= years to maturity, the yield to maturity for a zero coupon bond is given by:"
   ]
  },
  {
   "cell_type": "code",
   "execution_count": 28,
   "metadata": {
    "collapsed": true
   },
   "outputs": [],
   "source": [
    "F = 1000\n",
    "P = 800\n",
    "t = 5"
   ]
  },
  {
   "cell_type": "code",
   "execution_count": 29,
   "metadata": {},
   "outputs": [
    {
     "data": {
      "text/plain": [
       "0.045639552591273169"
      ]
     },
     "execution_count": 29,
     "metadata": {},
     "output_type": "execute_result"
    }
   ],
   "source": [
    "YTM = np.power((F/P),(1/t)) - 1\n",
    "YTM"
   ]
  },
  {
   "cell_type": "markdown",
   "metadata": {},
   "source": [
    "##### (b) Assume the yield to maturity on comparable zeros increases to 7% immediately after purchasing the bond and remains there. Calculate your annual return (holding period yield) if you sell the bond after one year.\n",
    "\n",
    "Annual return on a zero is the same as the holding period return and is given by:"
   ]
  },
  {
   "cell_type": "markdown",
   "metadata": {},
   "source": [
    "HPR = np.power((Pt2/P),(1/t2)) - 1 , where Pt2 is the selling price of the bond and t2 is the number of years the bond is held.\n",
    "This bond must also yield 7% to those you sell it to after one year. Using the formula\n",
    "for the price of a zero and recalling that the 5-year bond becomes a 4-year bond after\n",
    "one year, we have:"
   ]
  },
  {
   "cell_type": "code",
   "execution_count": 30,
   "metadata": {},
   "outputs": [
    {
     "data": {
      "text/plain": [
       "762.89521204752509"
      ]
     },
     "execution_count": 30,
     "metadata": {},
     "output_type": "execute_result"
    }
   ],
   "source": [
    "Pt2 = 1000/(np.power((1+0.07),4))\n",
    "Pt2"
   ]
  },
  {
   "cell_type": "markdown",
   "metadata": {},
   "source": [
    "Therefore, the annual return when you sell this bond after one year assuming yields\n",
    "have increased to 7% is:"
   ]
  },
  {
   "cell_type": "code",
   "execution_count": 31,
   "metadata": {},
   "outputs": [
    {
     "data": {
      "text/plain": [
       "-0.046380984940593617"
      ]
     },
     "execution_count": 31,
     "metadata": {},
     "output_type": "execute_result"
    }
   ],
   "source": [
    "P =800\n",
    "t2 = 1\n",
    "\n",
    "HPR = np.power((Pt2/P),(1/t2)) - 1\n",
    "HPR"
   ]
  },
  {
   "cell_type": "markdown",
   "metadata": {},
   "source": [
    "Your return is less than the YTM because yields rose and you sold the bond at a lower price. Moreover, you actually lost money."
   ]
  },
  {
   "cell_type": "markdown",
   "metadata": {},
   "source": [
    "##### (c) Assume yields to maturity on comparable bonds remain at 7%, calculate your annual return if you sell the bond after two years.\n",
    "\n",
    "The selling price after 2 years is:"
   ]
  },
  {
   "cell_type": "code",
   "execution_count": 32,
   "metadata": {},
   "outputs": [
    {
     "data": {
      "text/plain": [
       "816.29787689085197"
      ]
     },
     "execution_count": 32,
     "metadata": {},
     "output_type": "execute_result"
    }
   ],
   "source": [
    "Pt2 = 1000/(np.power((1+0.07),3))\n",
    "Pt2"
   ]
  },
  {
   "cell_type": "markdown",
   "metadata": {},
   "source": [
    "and your annual return over the two-year period is:"
   ]
  },
  {
   "cell_type": "code",
   "execution_count": 33,
   "metadata": {},
   "outputs": [
    {
     "data": {
      "text/plain": [
       "0.010134815811020825"
      ]
     },
     "execution_count": 33,
     "metadata": {},
     "output_type": "execute_result"
    }
   ],
   "source": [
    "t2 = 2\n",
    "\n",
    "HPR = np.power((Pt2/P),(1/t2)) - 1\n",
    "HPR"
   ]
  },
  {
   "cell_type": "markdown",
   "metadata": {},
   "source": [
    "Note that even though rates are still 7%, your annual return over the two years is\n",
    "positive because the selling price of the bond is now higher than after one year (as the\n",
    "bond price gets pulled to par)."
   ]
  },
  {
   "cell_type": "markdown",
   "metadata": {},
   "source": [
    "##### (d) Suppose after 3 years, the yield to maturity on similar zeros declines to 3%. Calculate the annual return if you sell the bond at that time.\n",
    "\n",
    "Since the yield to maturity on comparable zeros is now 3% and there are two years left to maturity, your selling price is:"
   ]
  },
  {
   "cell_type": "code",
   "execution_count": 34,
   "metadata": {},
   "outputs": [
    {
     "data": {
      "text/plain": [
       "942.59590913375439"
      ]
     },
     "execution_count": 34,
     "metadata": {},
     "output_type": "execute_result"
    }
   ],
   "source": [
    "Pt2 = 1000/(np.power((1+0.03),2))\n",
    "Pt2"
   ]
  },
  {
   "cell_type": "markdown",
   "metadata": {},
   "source": [
    "and your annual return over three years is:"
   ]
  },
  {
   "cell_type": "code",
   "execution_count": 35,
   "metadata": {},
   "outputs": [
    {
     "data": {
      "text/plain": [
       "0.05619762811510709"
      ]
     },
     "execution_count": 35,
     "metadata": {},
     "output_type": "execute_result"
    }
   ],
   "source": [
    "t2 = 3\n",
    "\n",
    "HPR = np.power((Pt2/P),(1/t2)) - 1\n",
    "HPR"
   ]
  },
  {
   "cell_type": "markdown",
   "metadata": {},
   "source": [
    "##### (e) If yield remains at 3%, calculate your annual return after four years.\n",
    "\n",
    "After four years your selling price is:"
   ]
  },
  {
   "cell_type": "code",
   "execution_count": 36,
   "metadata": {},
   "outputs": [
    {
     "data": {
      "text/plain": [
       "970.87378640776694"
      ]
     },
     "execution_count": 36,
     "metadata": {},
     "output_type": "execute_result"
    }
   ],
   "source": [
    "Pt2 = 1000/(np.power((1+0.03),1))\n",
    "Pt2"
   ]
  },
  {
   "cell_type": "markdown",
   "metadata": {},
   "source": [
    "and your annual return over four years is:"
   ]
  },
  {
   "cell_type": "code",
   "execution_count": 37,
   "metadata": {},
   "outputs": [
    {
     "data": {
      "text/plain": [
       "0.049586405732314764"
      ]
     },
     "execution_count": 37,
     "metadata": {},
     "output_type": "execute_result"
    }
   ],
   "source": [
    "t2 = 4\n",
    "\n",
    "HPR = np.power((Pt2/P),(1/t2)) - 1\n",
    "HPR"
   ]
  },
  {
   "cell_type": "markdown",
   "metadata": {},
   "source": [
    "##### (f) After five years.\n",
    "\n",
    "After five years the bond sells for its face value because it can be redeemed for 1000 dollars.\n",
    "Therefore, no matter what yields are after five years Pt2 = 1000 dollars and your annual return is:"
   ]
  },
  {
   "cell_type": "code",
   "execution_count": 38,
   "metadata": {},
   "outputs": [
    {
     "data": {
      "text/plain": [
       "0.045639552591273169"
      ]
     },
     "execution_count": 38,
     "metadata": {},
     "output_type": "execute_result"
    }
   ],
   "source": [
    "Pt2 = 1000\n",
    "t2 = 5\n",
    "\n",
    "HPR = np.power((Pt2/P),(1/t2)) - 1\n",
    "HPR"
   ]
  },
  {
   "cell_type": "markdown",
   "metadata": {},
   "source": [
    "##### (g) What explains the relationship between annual returns calculated in (b) through (f) and the yield to maturity in (a)?\n",
    "\n",
    "If you sell a bond prior to maturity, the annual return earned need not equal the yield to\n",
    "maturity implied by the price you paid when you purchased the bond. The calculations\n",
    "in (b) and (c) show that if yields rise, your annual return is lower while (d) and (e) show\n",
    "that if yields decline your annual return is higher. Nevertheless, because bond prices\n",
    "are “pulled to par,” if you hold a zero coupon bond to its final maturity your annual\n",
    "return will equal the yield to maturity calculation on the day you purchased the bond."
   ]
  },
  {
   "cell_type": "markdown",
   "metadata": {},
   "source": [
    "#### 6. Assume the government issues a semi-annual pay bond that matures in 5 years with a face value of $1,000 and a coupon yield of 10 percent."
   ]
  },
  {
   "cell_type": "markdown",
   "metadata": {},
   "source": [
    "##### (a) What price would you be willing to pay for such a bond if the yield to maturity (semi-annual compounding) on similar 5-year governments were 8%?"
   ]
  },
  {
   "cell_type": "markdown",
   "metadata": {},
   "source": [
    "Since the yield to maturity on similar securities is 8%, you will pay a premium for a 10%\n",
    "coupon bond such that the yield to maturity for both securities are equal. Since interest\n",
    "payments are made semi-annually, with the face value being paid back at maturity, and\n",
    "since we are using the semi-annual compounding formula, the general expression for the\n",
    "price is:\n",
    "\n",
    "We can use the annuity formula we learned earlier in the semester. Because the annuity pays twice a year, and\n",
    "because compounding is semiannual, use Y TM=2 in the formula, and 2T for the number\n",
    "of periods. Then:"
   ]
  },
  {
   "cell_type": "code",
   "execution_count": 40,
   "metadata": {},
   "outputs": [
    {
     "data": {
      "text/plain": [
       "1081.1089577935504"
      ]
     },
     "execution_count": 40,
     "metadata": {},
     "output_type": "execute_result"
    }
   ],
   "source": [
    "t=10\n",
    "R = .04\n",
    "C=50\n",
    "FV = 1000\n",
    "P = C*((1/R)-1/(R*(1+R)**t)) + FV/((1+R)**t)\n",
    "P"
   ]
  },
  {
   "cell_type": "markdown",
   "metadata": {},
   "source": [
    "##### (b) What would be the price if the yield to maturity (semi-annual compounding) on similar governments were 12%?"
   ]
  },
  {
   "cell_type": "markdown",
   "metadata": {},
   "source": [
    "Because the YTM is higher than the coupon rate, the bond is sold at a discount. The\n",
    "price can be computed exactly as above, using 12% instead of 8% as the YTM."
   ]
  },
  {
   "cell_type": "code",
   "execution_count": 41,
   "metadata": {},
   "outputs": [
    {
     "data": {
      "text/plain": [
       "926.3991294858529"
      ]
     },
     "execution_count": 41,
     "metadata": {},
     "output_type": "execute_result"
    }
   ],
   "source": [
    "t=10\n",
    "R = .06\n",
    "C=50\n",
    "FV = 1000\n",
    "P = C*((1/R)-1/(R*(1+R)**t)) + FV/((1+R)**t)\n",
    "P"
   ]
  },
  {
   "cell_type": "markdown",
   "metadata": {},
   "source": [
    "##### (c) If the price of the bond is 103 19/32 per $100 of face value, what is the yield to maturity?"
   ]
  },
  {
   "cell_type": "code",
   "execution_count": 42,
   "metadata": {},
   "outputs": [
    {
     "data": {
      "text/plain": [
       "0.09090578372237744"
      ]
     },
     "execution_count": 42,
     "metadata": {},
     "output_type": "execute_result"
    }
   ],
   "source": [
    "import scipy.optimize as optimize\n",
    "\n",
    "def bond_ytm(price, par, T, coup, freq=2, guess=0.05):\n",
    "    freq = float(freq)\n",
    "    periods = T*freq\n",
    "    coupon = coup/freq                     #coupon = coup/100.*par/freq\n",
    "    dt = [(i+1)/freq for i in range(int(periods))]\n",
    "    ytm_func = lambda y: \\\n",
    "        sum([coupon/(1+y/freq)**(freq*t) for t in dt]) + \\\n",
    "        par/(1+y/freq)**(freq*5) - price\n",
    "        \n",
    "    return optimize.newton(ytm_func, guess)\n",
    "\n",
    "bond_ytm(1035.90,1000,5,100)                                                   #bond_ytm(PV,FV,T,C)"
   ]
  },
  {
   "cell_type": "markdown",
   "metadata": {},
   "source": [
    "##### (d) Suppose you held the bond in (c) for 6 months, at which time you received a coupon payment and then sold the bond for a price of 102 (per $100 of face value). What would be the annualized holding period return?"
   ]
  },
  {
   "cell_type": "code",
   "execution_count": 43,
   "metadata": {},
   "outputs": [
    {
     "data": {
      "text/plain": [
       "0.06692008092042245"
      ]
     },
     "execution_count": 43,
     "metadata": {},
     "output_type": "execute_result"
    }
   ],
   "source": [
    "p1 = 1035.9                                                   #Present Value\n",
    "p2 = 1020                                                     #Selling Price after 6 months\n",
    "C = 50\n",
    "t=0.5\n",
    "AnnHPR = (((p2+C)/p1)**(1/t))-1\n",
    "AnnHPR"
   ]
  },
  {
   "cell_type": "code",
   "execution_count": null,
   "metadata": {
    "collapsed": true
   },
   "outputs": [],
   "source": []
  }
 ],
 "metadata": {
  "anaconda-cloud": {},
  "kernelspec": {
   "display_name": "Python 3",
   "language": "python",
   "name": "python3"
  },
  "language_info": {
   "codemirror_mode": {
    "name": "ipython",
    "version": 3
   },
   "file_extension": ".py",
   "mimetype": "text/x-python",
   "name": "python",
   "nbconvert_exporter": "python",
   "pygments_lexer": "ipython3",
   "version": "3.6.1"
  }
 },
 "nbformat": 4,
 "nbformat_minor": 2
}
