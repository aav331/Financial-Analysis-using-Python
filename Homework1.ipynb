{
 "cells": [
  {
   "cell_type": "markdown",
   "metadata": {},
   "source": [
    "# Foundations of Finance\n",
    "\n",
    "## Homework 1 Solutions"
   ]
  },
  {
   "cell_type": "markdown",
   "metadata": {},
   "source": [
    "These Notebooks embed text and code in the same document. To evaluate a cell, press Shift+Enter.\n",
    "\n",
    "Let's start by importing some packages that will aid us with our problems. We will be importing numpy along with some packages from math and scipy library."
   ]
  },
  {
   "cell_type": "code",
   "execution_count": 1,
   "metadata": {
    "collapsed": true
   },
   "outputs": [],
   "source": [
    "# Comments within blocks of code start with a # sign and continue until the end of the line\n",
    "import numpy as np\n",
    "from math import log, sqrt, exp\n",
    "from scipy import stats\n",
    "import pandas_datareader as pd_dr\n",
    "import pandas as pd"
   ]
  },
  {
   "cell_type": "markdown",
   "metadata": {},
   "source": [
    "### Topic 1: Financial Markets"
   ]
  },
  {
   "cell_type": "markdown",
   "metadata": {},
   "source": [
    "#### 1. You are among the OTC marketmakers in the stock of BioEngineering, Inc. and quote a bid of 102.25 and an ask of 102.50. Suppose that you have a zero inventory.\n",
    "\n",
    "##### (a) On Day 1 you receive market buy orders for 10,000 shares and market sell orders for 4,000 shares. How much do you earn on the 4,000 shares that you bought and sold? What is the value of your inventory at the end of the day? \n",
    "(Hints: It is possible\n",
    "to have negative inventory. Further, there is more than one correct way to value an\n",
    "inventory, but please state what assumption your valuation is based on.)\n",
    "\n",
    "You have sold 10,000 shares at the ask price of 102.50. You bought 4,000 shares at\n",
    "a bid price 102.25. Thus, 6,000 shares are sold short (sold without already owning\n",
    "the security). Your revenue from the 4,000 \"round trip\" purchase and sale produces a\n",
    "profit equal to the bid minus the ask times the volume done. Hence, the profit on the\n",
    "round trip trades is 0.25 x 4,000 = 1,000.\n",
    "The value of your inventory is equal to the value of your short position of 6,000 shares.\n",
    "Since there is both a bid and an ask price, this question can answered is various ways\n",
    "depending on what you assume:\n",
    "The \"conservative\" valuation is to value your position at the ask price of 102.50. Then,\n",
    "you have a position of -615,000. This conservative valuation is useful because, if you\n",
    "cover your short position by buying from another dealer at his ask price of 102.50,\n",
    "you would have to pay 615,000. (Also, in this example it is the price for which you\n",
    "sold the securities.)\n",
    "The \"aggressive\" valuation is to value your position at the bid price of 102.25. Then,\n",
    "you have a position of -613,500 (i.e. less negative than above). This value is implicitly\n",
    "based on an expectation that some investors will come to you and sell you 6000 shares\n",
    "at your current bid price.\n",
    "Often, real-world market makers will value their inventory at the mid price, in this\n",
    "case 102.375. Then, you have a position of -614,250.\n",
    "\n",
    "\n"
   ]
  },
  {
   "cell_type": "code",
   "execution_count": 2,
   "metadata": {
    "collapsed": true
   },
   "outputs": [],
   "source": [
    "bid = 102.25\n",
    "ask = 102.50\n",
    "market_buy = 10000\n",
    "market_sell = 4000"
   ]
  },
  {
   "cell_type": "code",
   "execution_count": 3,
   "metadata": {
    "collapsed": true
   },
   "outputs": [],
   "source": [
    "profit = min(market_buy,market_sell)*(ask-bid) # The profit is only realized on the \"round-trip\" buy and sell orders\n",
    "inventory = -market_buy+market_sell # Market buy orders reduce inventory and market sell orders increase it\n",
    "value_inventory_ask = inventory*ask # The $ value of the inventory, valued at the ask (more conservative for negative inventory)\n",
    "value_inventory_bid = inventory*bid # The $ value of the inventory, valued at the bid"
   ]
  },
  {
   "cell_type": "code",
   "execution_count": 4,
   "metadata": {},
   "outputs": [
    {
     "data": {
      "text/plain": [
       "1000.0"
      ]
     },
     "execution_count": 4,
     "metadata": {},
     "output_type": "execute_result"
    }
   ],
   "source": [
    "profit"
   ]
  },
  {
   "cell_type": "code",
   "execution_count": 5,
   "metadata": {},
   "outputs": [
    {
     "data": {
      "text/plain": [
       "-6000"
      ]
     },
     "execution_count": 5,
     "metadata": {},
     "output_type": "execute_result"
    }
   ],
   "source": [
    "inventory"
   ]
  },
  {
   "cell_type": "code",
   "execution_count": 6,
   "metadata": {},
   "outputs": [
    {
     "data": {
      "text/plain": [
       "-615000.0"
      ]
     },
     "execution_count": 6,
     "metadata": {},
     "output_type": "execute_result"
    }
   ],
   "source": [
    "value_inventory_ask"
   ]
  },
  {
   "cell_type": "code",
   "execution_count": 7,
   "metadata": {},
   "outputs": [
    {
     "data": {
      "text/plain": [
       "-613500.0"
      ]
     },
     "execution_count": 7,
     "metadata": {},
     "output_type": "execute_result"
    }
   ],
   "source": [
    "value_inventory_bid"
   ]
  },
  {
   "cell_type": "markdown",
   "metadata": {},
   "source": [
    "##### (b) Before trading begins on Day 2 the company announces trial testing of a cure for acne in mice. The quoted bid and ask jump to 110.25 and 110.50, respectively.\n",
    "\n",
    "During Day 2 you receive market sell orders for 8,000 shares and buy orders for 2,000\n",
    "shares. What is your total profit or loss over the two-day period? What is the value\n",
    "of your inventory at the end of Day 2?\n",
    "You have bought 8,000 shares during Day 2 at 110.25 and sold 2,000 shares at 110.50.\n",
    "On the 2,000 you bought and sold during the day you earn 2,000 x 0.25 = 500. You\n",
    "also added 6,000 shares to your inventory at a price of 110.25. Since you were short\n",
    "6,000 shares at 102.50 from yesterday's trading, your loss on these 6,000 shares is -7.75 x 6,000 = -46,500. Thus your total profit/loss over the two-day period is:\n",
    "\n",
    "                               1,000+500-46,500 = -45,000.\n",
    "\n",
    "Your inventory at the end of Day 2 is zero since\n",
    "you purchased 6,000 shares that offset the 6,000 share short position at the end of Day\n",
    "1."
   ]
  },
  {
   "cell_type": "code",
   "execution_count": 8,
   "metadata": {
    "collapsed": true
   },
   "outputs": [],
   "source": [
    "day2_bid = 110.25\n",
    "day2_ask = 110.5\n",
    "day2_market_sell = 8000\n",
    "day2_market_buy = 2000"
   ]
  },
  {
   "cell_type": "code",
   "execution_count": 9,
   "metadata": {
    "collapsed": true
   },
   "outputs": [],
   "source": [
    "day2_inventory = inventory-day2_market_buy+day2_market_sell ## The inventory after day 2\n",
    "\n",
    "## The profit after day 2 is equal to the profit on day 1 plus the profit from round-trip trades on day 2 plus the profit on the\n",
    "## sale/purchase of the day-1 inventory on day 2. If the day-1 inventory is negative, then it was sold at the day-1 ask and \n",
    "## bought back at the day-2 bid (this is the case in the question). If it is negative, then it was bought at the day-1 bid \n",
    "## and sold at the day-2 ask.\n",
    "if inventory<0:\n",
    "    day2_profit = profit+min(day2_market_buy,day2_market_sell)*(day2_ask-day2_bid)-inventory*(ask-day2_bid)\n",
    "else:\n",
    "    day2_profit = profit+min(day2_market_buy,day2_market_sell)*(day2_ask-day2_bid)+inventory*(day2_ask-bid)\n"
   ]
  },
  {
   "cell_type": "code",
   "execution_count": 10,
   "metadata": {},
   "outputs": [
    {
     "data": {
      "text/plain": [
       "0"
      ]
     },
     "execution_count": 10,
     "metadata": {},
     "output_type": "execute_result"
    }
   ],
   "source": [
    "day2_inventory"
   ]
  },
  {
   "cell_type": "code",
   "execution_count": 11,
   "metadata": {},
   "outputs": [
    {
     "data": {
      "text/plain": [
       "-45000.0"
      ]
     },
     "execution_count": 11,
     "metadata": {},
     "output_type": "execute_result"
    }
   ],
   "source": [
    "day2_profit"
   ]
  },
  {
   "cell_type": "markdown",
   "metadata": {},
   "source": [
    "##### (c) What is a market maker's objective? Is there anything you could have done during Day 1, consistent with a market maker's objective, that would have improved your performance over the two-day period?\n",
    "\n",
    "A marketmaker's objective is to earn the bid-ask spread, and not (necessarily) to\n",
    "speculate on equilibrium price movements. The 6,000 share short position at the end\n",
    "of Day 1 left you vulnerable to a jump in quoted prices. Perhaps you should have\n",
    "increased the prices during Day 1 as you observed more buying than selling. Also,\n",
    "you could have reduced your short inventory position by buying from other dealers at\n",
    "102.50 as the market closed on Day 1. There are two factors that may have prevented\n",
    "you from doing this: (1) Your expected profit of .25 on the 6,000 shares if market\n",
    "prices remained unchanged at 102.25 (bid) and 102.50 (ask). (2) Unwillingness of\n",
    "other dealers to accommodate your purchase of 6,000 shares at the 102.50 ask price."
   ]
  },
  {
   "cell_type": "markdown",
   "metadata": {},
   "source": [
    "### Topic 2: Performance Measures"
   ]
  },
  {
   "cell_type": "markdown",
   "metadata": {},
   "source": [
    "#### 2. Suppose a 5-year zero-coupon Treasury bond with face value $1000 has a 5% yield (annually compounded).\n",
    "##### (a) What price does this bond sell for?"
   ]
  },
  {
   "cell_type": "code",
   "execution_count": 12,
   "metadata": {
    "collapsed": true
   },
   "outputs": [],
   "source": [
    "fv = 1000                  #Face Value\n",
    "r = 0.05                   #Rate of interest\n",
    "t = 5                      #Time Period"
   ]
  },
  {
   "cell_type": "code",
   "execution_count": 13,
   "metadata": {
    "collapsed": true
   },
   "outputs": [],
   "source": [
    "pv = fv/(1+r)**t           #Formula for calculating the Present Value; \"**\" is the exponentiation operator."
   ]
  },
  {
   "cell_type": "code",
   "execution_count": 14,
   "metadata": {},
   "outputs": [
    {
     "data": {
      "text/plain": [
       "783.5261664684588"
      ]
     },
     "execution_count": 14,
     "metadata": {},
     "output_type": "execute_result"
    }
   ],
   "source": [
    "pv                         #Calling out the value to print the final result."
   ]
  },
  {
   "cell_type": "markdown",
   "metadata": {},
   "source": [
    "We can solve the above problem with a single line of code using scipy package"
   ]
  },
  {
   "cell_type": "code",
   "execution_count": 15,
   "metadata": {},
   "outputs": [
    {
     "data": {
      "text/plain": [
       "-783.52616646845877"
      ]
     },
     "execution_count": 15,
     "metadata": {},
     "output_type": "execute_result"
    }
   ],
   "source": [
    "#numpy.pv(rate, nper, pmt, fv=0.0, when='end')\n",
    "\n",
    "# a future value, fv\n",
    "# an interest rate compounded once per period, of which there are\n",
    "# nper total number of periods\n",
    "# a (fixed) payment, pmt, paid either\n",
    "# at the beginning (when = {‘begin’, 1}) or the end (when = {‘end’, 0}) of each period\n",
    "\n",
    "\n",
    "np.pv(0.05,5,0,1000)"
   ]
  },
  {
   "cell_type": "markdown",
   "metadata": {},
   "source": [
    "In financial terms, a negative sign before a cash flow indicates an outgoing cash flow and a positive or no sign indicates an incoming cash flow."
   ]
  },
  {
   "cell_type": "markdown",
   "metadata": {},
   "source": [
    "\n",
    "\n",
    "##### (b) Suppose another zero-coupon Treasury bond also has a 5% yield, but sells for $325.57. What is the maturity of this bond?"
   ]
  },
  {
   "cell_type": "code",
   "execution_count": 16,
   "metadata": {
    "collapsed": true
   },
   "outputs": [],
   "source": [
    "fv = 1000                  #Face Value\n",
    "r = 0.05                   #Rate of interest\n",
    "pv = 325.57                #Present Value"
   ]
  },
  {
   "cell_type": "code",
   "execution_count": 17,
   "metadata": {
    "collapsed": true
   },
   "outputs": [],
   "source": [
    "t = log(fv/pv)/log(1+r)"
   ]
  },
  {
   "cell_type": "code",
   "execution_count": 18,
   "metadata": {},
   "outputs": [
    {
     "data": {
      "text/plain": [
       "23.00008220496793"
      ]
     },
     "execution_count": 18,
     "metadata": {},
     "output_type": "execute_result"
    }
   ],
   "source": [
    "t"
   ]
  },
  {
   "cell_type": "markdown",
   "metadata": {},
   "source": [
    "#### 3. Which of the following investments do you prefer?\n",
    "\n",
    "##### (a) Purchase a zero-coupon bond, which pays 1000 in ten years, for a price of $550.\n",
    "\n",
    "##### (b) Invest $550 for ten years in Chase at a guaranteed annual interest rate of 5.5%."
   ]
  },
  {
   "cell_type": "markdown",
   "metadata": {
    "collapsed": true
   },
   "source": [
    "Solution:\n",
    "You can go about this in two ways:\n",
    "\n",
    "1. We can calculate the yield of the bond and compare it with the interest guaranteed from Chase. Whichever gives us higher returns will be preferred.\n",
    "\n",
    "2. We can calculate the future value of our investment in Chase and compare it with the face value of our bond."
   ]
  },
  {
   "cell_type": "code",
   "execution_count": 19,
   "metadata": {
    "collapsed": true
   },
   "outputs": [],
   "source": [
    "fv = 1000\n",
    "t = 10\n",
    "pv = 550"
   ]
  },
  {
   "cell_type": "code",
   "execution_count": 20,
   "metadata": {
    "collapsed": true
   },
   "outputs": [],
   "source": [
    "r = (fv/pv)**(1/t)-1"
   ]
  },
  {
   "cell_type": "code",
   "execution_count": 21,
   "metadata": {},
   "outputs": [
    {
     "data": {
      "text/plain": [
       "0.06160689621814597"
      ]
     },
     "execution_count": 21,
     "metadata": {},
     "output_type": "execute_result"
    }
   ],
   "source": [
    "r"
   ]
  },
  {
   "cell_type": "markdown",
   "metadata": {},
   "source": [
    "The yield of the bond is 0.0616 or 6.16% which is greater than 5.5% yielded by investing in Chase. Therefore, the bond is a better investment."
   ]
  },
  {
   "cell_type": "code",
   "execution_count": 22,
   "metadata": {
    "collapsed": true
   },
   "outputs": [],
   "source": [
    "r = 0.055\n",
    "pv = 550\n",
    "t = 10"
   ]
  },
  {
   "cell_type": "code",
   "execution_count": 23,
   "metadata": {
    "collapsed": true
   },
   "outputs": [],
   "source": [
    "fv = pv*(1+r)**t                 #The variable after '**' signifies the exponent"
   ]
  },
  {
   "cell_type": "code",
   "execution_count": 24,
   "metadata": {},
   "outputs": [
    {
     "data": {
      "text/plain": [
       "939.4794520944758"
      ]
     },
     "execution_count": 24,
     "metadata": {},
     "output_type": "execute_result"
    }
   ],
   "source": [
    "fv"
   ]
  },
  {
   "cell_type": "markdown",
   "metadata": {},
   "source": [
    "the Chase deposit after 10 years will have grown to $939.48 which is lower than the face value of the bond\n",
    "\n",
    "Using Scipy:"
   ]
  },
  {
   "cell_type": "code",
   "execution_count": 25,
   "metadata": {},
   "outputs": [
    {
     "data": {
      "text/plain": [
       "0.061606896218165071"
      ]
     },
     "execution_count": 25,
     "metadata": {},
     "output_type": "execute_result"
    }
   ],
   "source": [
    "#numpy.rate(nper, pmt, pv, fv, when='end', guess=0.1, tol=1e-06, maxiter=100)[source]\n",
    "\n",
    "np.rate(10,0,-550,1000)"
   ]
  },
  {
   "cell_type": "code",
   "execution_count": 26,
   "metadata": {},
   "outputs": [
    {
     "data": {
      "text/plain": [
       "939.47945209447585"
      ]
     },
     "execution_count": 26,
     "metadata": {},
     "output_type": "execute_result"
    }
   ],
   "source": [
    "np.fv(0.055,10,0,-550)"
   ]
  },
  {
   "cell_type": "markdown",
   "metadata": {},
   "source": [
    "** 4. Suppose you get for free one of following two securities: **\n",
    "\n",
    "##### (a) an annuity that pays 10000 at the end of each of the next 6 years; or \n",
    "##### (b) a perpetuity that pays 10,000 forever, but it does not begin until 10 years from now (the first cash payment from this security is 11 years from today). \n",
    "\n",
    "#### Which security would you choose if the annual interest rate is 5%? Does your answer change if the intere3st rate is 10%? Explain why or why not."
   ]
  },
  {
   "cell_type": "markdown",
   "metadata": {},
   "source": [
    "To determine whether it is better to get for free (a) or (b), we must calculate which\n",
    "security has the higher present value."
   ]
  },
  {
   "cell_type": "markdown",
   "metadata": {},
   "source": [
    "Cash flow (a) is a straightforward annuity whose present value can be calculated as follows: "
   ]
  },
  {
   "cell_type": "code",
   "execution_count": 27,
   "metadata": {
    "collapsed": true
   },
   "outputs": [],
   "source": [
    "C = 10000\n",
    "r = 0.05\n",
    "t = 6"
   ]
  },
  {
   "cell_type": "code",
   "execution_count": 28,
   "metadata": {
    "collapsed": true
   },
   "outputs": [],
   "source": [
    "pv = C*(1-1/((1+r)**t))/r"
   ]
  },
  {
   "cell_type": "code",
   "execution_count": 29,
   "metadata": {},
   "outputs": [
    {
     "data": {
      "text/plain": [
       "50756.92067267452"
      ]
     },
     "execution_count": 29,
     "metadata": {},
     "output_type": "execute_result"
    }
   ],
   "source": [
    "pv"
   ]
  },
  {
   "cell_type": "markdown",
   "metadata": {},
   "source": [
    "Cash Flow (b) is a perpetuity that begins 10 years from now. We can value it in two\n",
    "parts. First, we know that a perpetuity has a value, P, given by: P = C/r"
   ]
  },
  {
   "cell_type": "code",
   "execution_count": 30,
   "metadata": {
    "collapsed": true
   },
   "outputs": [],
   "source": [
    "C=10000\n",
    "r=0.05"
   ]
  },
  {
   "cell_type": "code",
   "execution_count": 31,
   "metadata": {
    "collapsed": true
   },
   "outputs": [],
   "source": [
    "P=C/r"
   ]
  },
  {
   "cell_type": "code",
   "execution_count": 32,
   "metadata": {},
   "outputs": [
    {
     "data": {
      "text/plain": [
       "200000.0"
      ]
     },
     "execution_count": 32,
     "metadata": {},
     "output_type": "execute_result"
    }
   ],
   "source": [
    "P"
   ]
  },
  {
   "cell_type": "markdown",
   "metadata": {},
   "source": [
    "Thus, with C = 10000 and r = 0.05 the perpetuity is worth 200,000. But it is worth\n",
    "200,000 ten years from now (one year before the first payment), not today. We can get the present value of 200,000\n",
    "received with a 10 year delay by treating that sum as though it were a zero coupon\n",
    "bond with a face value of 200,000 payable in 10 years. Hence,"
   ]
  },
  {
   "cell_type": "code",
   "execution_count": 33,
   "metadata": {
    "collapsed": true
   },
   "outputs": [],
   "source": [
    "fv = 200000\n",
    "r = 0.05\n",
    "t = 10"
   ]
  },
  {
   "cell_type": "code",
   "execution_count": 34,
   "metadata": {},
   "outputs": [
    {
     "data": {
      "text/plain": [
       "122782.65070815184"
      ]
     },
     "execution_count": 34,
     "metadata": {},
     "output_type": "execute_result"
    }
   ],
   "source": [
    "pv = fv/(1+r)**t\n",
    "pv"
   ]
  },
  {
   "cell_type": "raw",
   "metadata": {},
   "source": [
    "A second way to value the perpetuity in (b) is to think of it as a regular perpetuity that is missing its first ten payments. Its value is therefore equal to the value of a perpetuity today minus the value of a ten-year annuity:"
   ]
  },
  {
   "cell_type": "code",
   "execution_count": 35,
   "metadata": {},
   "outputs": [
    {
     "data": {
      "text/plain": [
       "122782.65070815182"
      ]
     },
     "execution_count": 35,
     "metadata": {},
     "output_type": "execute_result"
    }
   ],
   "source": [
    "pv = C/r-C*(1-1/((1+r)**10))/r\n",
    "pv"
   ]
  },
  {
   "cell_type": "markdown",
   "metadata": {},
   "source": [
    "We find that the present value of the\n",
    "perpetuity beginning 10 years from now is 122,782. Hence, we prefer the perpetuity\n",
    "because its present value of 122,782 is larger than the 50,757 present value of the\n",
    "annuity in (a)."
   ]
  },
  {
   "cell_type": "markdown",
   "metadata": {},
   "source": [
    "Similarly, when rate = 10%, calculating for both:"
   ]
  },
  {
   "cell_type": "code",
   "execution_count": 36,
   "metadata": {
    "collapsed": true
   },
   "outputs": [],
   "source": [
    "C = 10000\n",
    "r = 0.1\n",
    "t = 6"
   ]
  },
  {
   "cell_type": "code",
   "execution_count": 37,
   "metadata": {
    "collapsed": true
   },
   "outputs": [],
   "source": [
    "pv = C*((1/r)-1/(r*(1+r)**t))            #For Annuity"
   ]
  },
  {
   "cell_type": "code",
   "execution_count": 38,
   "metadata": {},
   "outputs": [
    {
     "data": {
      "text/plain": [
       "43552.60699462229"
      ]
     },
     "execution_count": 38,
     "metadata": {},
     "output_type": "execute_result"
    }
   ],
   "source": [
    "pv                                       #For Annuity"
   ]
  },
  {
   "cell_type": "code",
   "execution_count": 39,
   "metadata": {
    "collapsed": true
   },
   "outputs": [],
   "source": [
    "pv = C/r                                 #Present Value For Perpetuity 10 years from now"
   ]
  },
  {
   "cell_type": "code",
   "execution_count": 40,
   "metadata": {},
   "outputs": [
    {
     "data": {
      "text/plain": [
       "100000.0"
      ]
     },
     "execution_count": 40,
     "metadata": {},
     "output_type": "execute_result"
    }
   ],
   "source": [
    "pv                                       #Present Value For Perpetuity 10 years from now"
   ]
  },
  {
   "cell_type": "markdown",
   "metadata": {},
   "source": [
    "Similarly, We can get the present value of 100,000 received with a 10 year delay by treating that sum as though it were a zero coupon\n",
    "bond with a face value of $100,000 payable in 10 years."
   ]
  },
  {
   "cell_type": "code",
   "execution_count": 41,
   "metadata": {
    "collapsed": true
   },
   "outputs": [],
   "source": [
    "fv = 100000\n",
    "r = 0.1\n",
    "t = 10"
   ]
  },
  {
   "cell_type": "code",
   "execution_count": 42,
   "metadata": {
    "collapsed": true
   },
   "outputs": [],
   "source": [
    "pv = fv/(1+r)**t                         #Present Value For Perpetuity at Day 0"
   ]
  },
  {
   "cell_type": "code",
   "execution_count": 43,
   "metadata": {},
   "outputs": [
    {
     "data": {
      "text/plain": [
       "38554.32894295314"
      ]
     },
     "execution_count": 43,
     "metadata": {},
     "output_type": "execute_result"
    }
   ],
   "source": [
    "pv                                       #Present Value For Perpetuity at Day 0"
   ]
  },
  {
   "cell_type": "markdown",
   "metadata": {},
   "source": [
    "Thus at 10% we prefer the annuity in (a), with a present value of 43,552, to the\n",
    "perpetuity, which is worth only $38,554.\n",
    "This result stems from the fact that even though the perpetuity has infinite cash flows\n",
    "compared with the annuity, those cash flows begin with a 10- year delay. At a 10%\n",
    "interest rate the delayed cash \n",
    "flows are penalized very heavily.\n",
    "\n",
    "\n",
    "\n",
    "\n"
   ]
  },
  {
   "cell_type": "markdown",
   "metadata": {},
   "source": [
    "** 5. Suppose a hedge fund manager earns 1% per trading day. There are 250 trading days\n",
    "per year. Answer the following questions: **\n",
    "\n",
    "\n",
    "** (a) What will be your annual return on $100 invested in her fund if she allows you to\n",
    "reinvest in her fund the 1% you earn each day? **"
   ]
  },
  {
   "cell_type": "markdown",
   "metadata": {
    "collapsed": true
   },
   "source": [
    "Allowing you to reinvest at 1% per day means that you are earning compound interest\n",
    "on your initial $100 investment. The formula for P growing to F for one year at a\n",
    "compound rate r per annum is:\n",
    "                             F = P(1+r/n)^n\n",
    "\n",
    "where n is the number of compounding periods per year and hence r/n is the rate per\n",
    "compounding period. We are given r/n = 1% per day and are asked to calculate the\n",
    "annual yield. This is equivalent to asking for the effective annual rate.\n"
   ]
  },
  {
   "cell_type": "code",
   "execution_count": 44,
   "metadata": {
    "collapsed": true
   },
   "outputs": [],
   "source": [
    "r = .01\n",
    "t = 250\n",
    "pv = 100"
   ]
  },
  {
   "cell_type": "code",
   "execution_count": 45,
   "metadata": {
    "collapsed": true
   },
   "outputs": [],
   "source": [
    "F = pv*(1+r)**t"
   ]
  },
  {
   "cell_type": "code",
   "execution_count": 46,
   "metadata": {},
   "outputs": [
    {
     "data": {
      "text/plain": [
       "1203.2155768297464"
      ]
     },
     "execution_count": 46,
     "metadata": {},
     "output_type": "execute_result"
    }
   ],
   "source": [
    "F"
   ]
  },
  {
   "cell_type": "code",
   "execution_count": 47,
   "metadata": {},
   "outputs": [
    {
     "name": "stdout",
     "output_type": "stream",
     "text": [
      "EAR = 1103.22%\n"
     ]
    }
   ],
   "source": [
    "EAR = (1+r)**t-1\n",
    "print(\"EAR = \"+\"{:.2%}\".format(EAR)); ## Converts to percentage with two decimals\n"
   ]
  },
  {
   "cell_type": "markdown",
   "metadata": {},
   "source": [
    "#### (b) What will be your annual return assuming she puts all of your daily earnings into a zero-interest- bearing checking account and pays you everything earned at the end of the year?"
   ]
  },
  {
   "cell_type": "markdown",
   "metadata": {},
   "source": [
    "If the hedge fund manager insists on putting your daily 1% earnings into a zero-interest\n",
    "bearing checking account, then you will earn only the daily rate (1%) multiplied by\n",
    "the number of days, or, 1% * 250 = 250%\n",
    "\n",
    "Notice that this is equivalent to the annual percentage rate (APR) calculation:\n",
    "APR = periodic rate x n = 1% x 250\n",
    "\n",
    "The value at the end of the year includes interest earnings plus original investment,\n",
    "that is, 100+250=350."
   ]
  },
  {
   "cell_type": "code",
   "execution_count": 48,
   "metadata": {},
   "outputs": [
    {
     "data": {
      "text/plain": [
       "350.0"
      ]
     },
     "execution_count": 48,
     "metadata": {},
     "output_type": "execute_result"
    }
   ],
   "source": [
    "F = pv*(1+r*t) # Without re-investment, there is no compounding of interest\n",
    "F"
   ]
  },
  {
   "cell_type": "code",
   "execution_count": 49,
   "metadata": {},
   "outputs": [
    {
     "name": "stdout",
     "output_type": "stream",
     "text": [
      "APR = 250.00%\n"
     ]
    }
   ],
   "source": [
    "APR = 250*r\n",
    "print(\"APR = \"+\"{:.2%}\".format(APR)); # Converts to percentage with two decimals"
   ]
  },
  {
   "cell_type": "markdown",
   "metadata": {},
   "source": [
    "#### (c) Can you summarize when it is proper to \"annualize\" using APR (annual percentage rate) versus EAR (e\u000b",
    "ective annual rate)?\n",
    "\n",
    "Whether you use APR or EAR to annualize a periodic rate depends upon the process\n",
    "for reinvesting the proceeds of your investment. If you can reinvest at the periodic\n",
    "rate (as in (a)) then EAR is appropriate. If the reinvestment rate is zero (as in (b))\n",
    "then APR is appropriate. Since the reinvestment rate is rarely zero, the APR usually\n",
    "understates the annual rate."
   ]
  },
  {
   "cell_type": "markdown",
   "metadata": {},
   "source": [
    "#### 6. Here are some alternative investments you are considering for one year. (i) Bank A promises to pay 8% on your deposit compounded annually. (ii) Bank B promises to pay 8% on your deposit compounded daily. Compare the effective annual rate (EAR) on these investments.\n",
    "(i) EAR = .08\n"
   ]
  },
  {
   "cell_type": "code",
   "execution_count": 50,
   "metadata": {
    "collapsed": true
   },
   "outputs": [],
   "source": [
    "r = .08\n",
    "m = 365 # Compounded daily\n"
   ]
  },
  {
   "cell_type": "code",
   "execution_count": 51,
   "metadata": {},
   "outputs": [
    {
     "name": "stdout",
     "output_type": "stream",
     "text": [
      "EAR = 8.33%\n"
     ]
    }
   ],
   "source": [
    "EAR = ((1+r/m)**m)-1\n",
    "print(\"EAR = \"+\"{:.2%}\".format(EAR)); # Converts to percentage with two decimals"
   ]
  },
  {
   "cell_type": "markdown",
   "metadata": {},
   "source": [
    "In general, the greater the compounding frequency, the higher the EAR. This is because\n",
    "with more frequent compounding, you earn more interest on interest."
   ]
  },
  {
   "cell_type": "markdown",
   "metadata": {},
   "source": [
    "#### 7. (a) Suppose that you have purchased a 3-year zero-coupon bond with face value of 1000 and a price of 850. If you hold the bond to maturity, what is your annual rate of return?"
   ]
  },
  {
   "cell_type": "code",
   "execution_count": 52,
   "metadata": {
    "collapsed": true
   },
   "outputs": [],
   "source": [
    "pv = 850\n",
    "fv = 1000\n",
    "t  = 3"
   ]
  },
  {
   "cell_type": "code",
   "execution_count": 53,
   "metadata": {},
   "outputs": [
    {
     "name": "stdout",
     "output_type": "stream",
     "text": [
      "r = 5.57%\n"
     ]
    }
   ],
   "source": [
    "r = (fv/pv)**(1/t)-1\n",
    "print(\"r = \"+\"{:.2%}\".format(r)); # Converts to percentage with two decimals"
   ]
  },
  {
   "cell_type": "code",
   "execution_count": 54,
   "metadata": {},
   "outputs": [
    {
     "data": {
      "text/plain": [
       "0.055667191978000838"
      ]
     },
     "execution_count": 54,
     "metadata": {},
     "output_type": "execute_result"
    }
   ],
   "source": [
    "np.rate(3,0,-850,1000)        # Using Scipy"
   ]
  },
  {
   "cell_type": "markdown",
   "metadata": {},
   "source": [
    "#### (b) Now suppose you have purchased a 3-year bond with face value of 1000, a 7% annual coupon, and a price of 975. Assuming that you hold the bond to maturity, is the IRR greater or less than the return on the bond in part (a)?"
   ]
  },
  {
   "cell_type": "markdown",
   "metadata": {},
   "source": [
    "Recall that the IRR is defined as the interest rate that makes the present value of the\n",
    "payments equal to the price. Hence, the IRR (annual compounding) solves : \n",
    "\n",
    "                           975 = 70/(1 + IRR) + 70/(1 + IRR)^2 + 1070/(1 + IRR)^3 "
   ]
  },
  {
   "cell_type": "code",
   "execution_count": 55,
   "metadata": {},
   "outputs": [
    {
     "data": {
      "text/plain": [
       "0.085"
      ]
     },
     "execution_count": 55,
     "metadata": {},
     "output_type": "execute_result"
    }
   ],
   "source": [
    "round(np.irr([-975, 70, 70, 1070, 20]), 3)        #Using Scipy"
   ]
  },
  {
   "cell_type": "markdown",
   "metadata": {},
   "source": [
    "Another way to go about it is to insert the IRR value calculated in (a), to find out pv, and compare those values."
   ]
  },
  {
   "cell_type": "markdown",
   "metadata": {},
   "source": [
    "#### 8. Download the monthly S&P 500 prices from January 1950 until today http://finance.yahoo.com/ (click Market Data, click S&P 500, click Historical Prices, click Monthly, click Get Prices, click Download to Spreadsheet at the bottom of the page).\n",
    "\n",
    "#### (a) What is your best estimate for next month’s return?"
   ]
  },
  {
   "cell_type": "code",
   "execution_count": 59,
   "metadata": {},
   "outputs": [
    {
     "data": {
      "text/html": [
       "<div>\n",
       "<style>\n",
       "    .dataframe thead tr:only-child th {\n",
       "        text-align: right;\n",
       "    }\n",
       "\n",
       "    .dataframe thead th {\n",
       "        text-align: left;\n",
       "    }\n",
       "\n",
       "    .dataframe tbody tr th {\n",
       "        vertical-align: top;\n",
       "    }\n",
       "</style>\n",
       "<table border=\"1\" class=\"dataframe\">\n",
       "  <thead>\n",
       "    <tr style=\"text-align: right;\">\n",
       "      <th></th>\n",
       "      <th>Open</th>\n",
       "      <th>High</th>\n",
       "      <th>Low</th>\n",
       "      <th>Close</th>\n",
       "      <th>Adj Close</th>\n",
       "      <th>Volume</th>\n",
       "    </tr>\n",
       "    <tr>\n",
       "      <th>Date</th>\n",
       "      <th></th>\n",
       "      <th></th>\n",
       "      <th></th>\n",
       "      <th></th>\n",
       "      <th></th>\n",
       "      <th></th>\n",
       "    </tr>\n",
       "  </thead>\n",
       "  <tbody>\n",
       "    <tr>\n",
       "      <th>2017-05-31</th>\n",
       "      <td>2415.629883</td>\n",
       "      <td>2415.989990</td>\n",
       "      <td>2403.590088</td>\n",
       "      <td>2411.800049</td>\n",
       "      <td>2411.800049</td>\n",
       "      <td>4516110000</td>\n",
       "    </tr>\n",
       "    <tr>\n",
       "      <th>2017-06-30</th>\n",
       "      <td>2429.199951</td>\n",
       "      <td>2432.709961</td>\n",
       "      <td>2421.649902</td>\n",
       "      <td>2423.409912</td>\n",
       "      <td>2423.409912</td>\n",
       "      <td>3361590000</td>\n",
       "    </tr>\n",
       "    <tr>\n",
       "      <th>2017-07-31</th>\n",
       "      <td>2475.939941</td>\n",
       "      <td>2477.959961</td>\n",
       "      <td>2468.530029</td>\n",
       "      <td>2470.300049</td>\n",
       "      <td>2470.300049</td>\n",
       "      <td>3469210000</td>\n",
       "    </tr>\n",
       "    <tr>\n",
       "      <th>2017-08-31</th>\n",
       "      <td>2462.649902</td>\n",
       "      <td>2475.010010</td>\n",
       "      <td>2462.649902</td>\n",
       "      <td>2471.649902</td>\n",
       "      <td>2471.649902</td>\n",
       "      <td>3348110000</td>\n",
       "    </tr>\n",
       "    <tr>\n",
       "      <th>2017-09-30</th>\n",
       "      <td>2507.159912</td>\n",
       "      <td>2507.159912</td>\n",
       "      <td>2499.000000</td>\n",
       "      <td>2500.600098</td>\n",
       "      <td>2500.600098</td>\n",
       "      <td>1804662900</td>\n",
       "    </tr>\n",
       "  </tbody>\n",
       "</table>\n",
       "</div>"
      ],
      "text/plain": [
       "                   Open         High          Low        Close    Adj Close  \\\n",
       "Date                                                                          \n",
       "2017-05-31  2415.629883  2415.989990  2403.590088  2411.800049  2411.800049   \n",
       "2017-06-30  2429.199951  2432.709961  2421.649902  2423.409912  2423.409912   \n",
       "2017-07-31  2475.939941  2477.959961  2468.530029  2470.300049  2470.300049   \n",
       "2017-08-31  2462.649902  2475.010010  2462.649902  2471.649902  2471.649902   \n",
       "2017-09-30  2507.159912  2507.159912  2499.000000  2500.600098  2500.600098   \n",
       "\n",
       "                Volume  \n",
       "Date                    \n",
       "2017-05-31  4516110000  \n",
       "2017-06-30  3361590000  \n",
       "2017-07-31  3469210000  \n",
       "2017-08-31  3348110000  \n",
       "2017-09-30  1804662900  "
      ]
     },
     "execution_count": 59,
     "metadata": {},
     "output_type": "execute_result"
    }
   ],
   "source": [
    "# If you get an error, try executing this cell again after a few seconds:\n",
    "dsp500 = pd_dr.DataReader(name='^GSPC',data_source='yahoo', start='1950-1-1') # ^GSPC is the ticker for the S&P 500\n",
    "resample = dsp500.resample('M') # Make an extra column for the month\n",
    "sp500 = resample.last() # Keep the last observation in each month so we can calculate monthly returns\n",
    "sp500.tail()"
   ]
  },
  {
   "cell_type": "raw",
   "metadata": {},
   "source": [
    "Let's plot the closing prices:"
   ]
  },
  {
   "cell_type": "code",
   "execution_count": 60,
   "metadata": {},
   "outputs": [
    {
     "data": {
      "text/plain": [
       "<matplotlib.axes._subplots.AxesSubplot at 0x11495acf8>"
      ]
     },
     "execution_count": 60,
     "metadata": {},
     "output_type": "execute_result"
    },
    {
     "data": {
      "image/png": "[encoded data removed]",
      "text/plain": [
       "<matplotlib.figure.Figure at 0x1148b8e48>"
      ]
     },
     "metadata": {},
     "output_type": "display_data"
    }
   ],
   "source": [
    "%matplotlib inline\n",
    "sp500['Close'].plot(grid=True,title='SP500 Price')"
   ]
  },
  {
   "cell_type": "code",
   "execution_count": 61,
   "metadata": {},
   "outputs": [
    {
     "data": {
      "text/html": [
       "<div>\n",
       "<style>\n",
       "    .dataframe thead tr:only-child th {\n",
       "        text-align: right;\n",
       "    }\n",
       "\n",
       "    .dataframe thead th {\n",
       "        text-align: left;\n",
       "    }\n",
       "\n",
       "    .dataframe tbody tr th {\n",
       "        vertical-align: top;\n",
       "    }\n",
       "</style>\n",
       "<table border=\"1\" class=\"dataframe\">\n",
       "  <thead>\n",
       "    <tr style=\"text-align: right;\">\n",
       "      <th></th>\n",
       "      <th>Open</th>\n",
       "      <th>High</th>\n",
       "      <th>Low</th>\n",
       "      <th>Close</th>\n",
       "      <th>Adj Close</th>\n",
       "      <th>Volume</th>\n",
       "      <th>Return</th>\n",
       "    </tr>\n",
       "    <tr>\n",
       "      <th>Date</th>\n",
       "      <th></th>\n",
       "      <th></th>\n",
       "      <th></th>\n",
       "      <th></th>\n",
       "      <th></th>\n",
       "      <th></th>\n",
       "      <th></th>\n",
       "    </tr>\n",
       "  </thead>\n",
       "  <tbody>\n",
       "    <tr>\n",
       "      <th>2017-05-31</th>\n",
       "      <td>2415.629883</td>\n",
       "      <td>2415.989990</td>\n",
       "      <td>2403.590088</td>\n",
       "      <td>2411.800049</td>\n",
       "      <td>2411.800049</td>\n",
       "      <td>4516110000</td>\n",
       "      <td>0.011576</td>\n",
       "    </tr>\n",
       "    <tr>\n",
       "      <th>2017-06-30</th>\n",
       "      <td>2429.199951</td>\n",
       "      <td>2432.709961</td>\n",
       "      <td>2421.649902</td>\n",
       "      <td>2423.409912</td>\n",
       "      <td>2423.409912</td>\n",
       "      <td>3361590000</td>\n",
       "      <td>0.004814</td>\n",
       "    </tr>\n",
       "    <tr>\n",
       "      <th>2017-07-31</th>\n",
       "      <td>2475.939941</td>\n",
       "      <td>2477.959961</td>\n",
       "      <td>2468.530029</td>\n",
       "      <td>2470.300049</td>\n",
       "      <td>2470.300049</td>\n",
       "      <td>3469210000</td>\n",
       "      <td>0.019349</td>\n",
       "    </tr>\n",
       "    <tr>\n",
       "      <th>2017-08-31</th>\n",
       "      <td>2462.649902</td>\n",
       "      <td>2475.010010</td>\n",
       "      <td>2462.649902</td>\n",
       "      <td>2471.649902</td>\n",
       "      <td>2471.649902</td>\n",
       "      <td>3348110000</td>\n",
       "      <td>0.000546</td>\n",
       "    </tr>\n",
       "    <tr>\n",
       "      <th>2017-09-30</th>\n",
       "      <td>2507.159912</td>\n",
       "      <td>2507.159912</td>\n",
       "      <td>2499.000000</td>\n",
       "      <td>2500.600098</td>\n",
       "      <td>2500.600098</td>\n",
       "      <td>1804662900</td>\n",
       "      <td>0.011713</td>\n",
       "    </tr>\n",
       "  </tbody>\n",
       "</table>\n",
       "</div>"
      ],
      "text/plain": [
       "                   Open         High          Low        Close    Adj Close  \\\n",
       "Date                                                                          \n",
       "2017-05-31  2415.629883  2415.989990  2403.590088  2411.800049  2411.800049   \n",
       "2017-06-30  2429.199951  2432.709961  2421.649902  2423.409912  2423.409912   \n",
       "2017-07-31  2475.939941  2477.959961  2468.530029  2470.300049  2470.300049   \n",
       "2017-08-31  2462.649902  2475.010010  2462.649902  2471.649902  2471.649902   \n",
       "2017-09-30  2507.159912  2507.159912  2499.000000  2500.600098  2500.600098   \n",
       "\n",
       "                Volume    Return  \n",
       "Date                              \n",
       "2017-05-31  4516110000  0.011576  \n",
       "2017-06-30  3361590000  0.004814  \n",
       "2017-07-31  3469210000  0.019349  \n",
       "2017-08-31  3348110000  0.000546  \n",
       "2017-09-30  1804662900  0.011713  "
      ]
     },
     "execution_count": 61,
     "metadata": {},
     "output_type": "execute_result"
    }
   ],
   "source": [
    "sp500['Return'] = sp500['Adj Close'] / sp500['Adj Close'].shift(1)-1 # Calculate the monthly returns (HPR)\n",
    "sp500.tail()"
   ]
  },
  {
   "cell_type": "code",
   "execution_count": 62,
   "metadata": {},
   "outputs": [
    {
     "name": "stdout",
     "output_type": "stream",
     "text": [
      "Average monthly return = 0.70%\n"
     ]
    }
   ],
   "source": [
    "ravg = np.mean(sp500['Return']) # Calculate the average monthly return\n",
    "print(\"Average monthly return = \"+\"{:.2%}\".format(ravg)); # Converts to percentage with two decimals"
   ]
  },
  {
   "cell_type": "markdown",
   "metadata": {},
   "source": [
    "#### (b) What would have been your annualized HPR if you invested as of the start of the index?"
   ]
  },
  {
   "cell_type": "markdown",
   "metadata": {},
   "source": [
    "We can calculate the annualized HPR in two ways:\n",
    "\n",
    "1) As the geometric average of the monthly returns\n",
    "\n",
    "2) By first calculating the future value of $1 invested in 1950"
   ]
  },
  {
   "cell_type": "code",
   "execution_count": 63,
   "metadata": {},
   "outputs": [
    {
     "name": "stdout",
     "output_type": "stream",
     "text": [
      "Annualized HPR = 7.65%\n"
     ]
    }
   ],
   "source": [
    "GrossReturn = 1+sp500['Return']\n",
    "GrossReturn = GrossReturn[np.isfinite(GrossReturn)]\n",
    "r=stats.gmean(GrossReturn)**12-1 # The geometric average return. The 12th power converts from monthly to annualized\n",
    "print(\"Annualized HPR = \"+\"{:.2%}\".format(r)); # Converts to percentage with two decimals"
   ]
  },
  {
   "cell_type": "code",
   "execution_count": 64,
   "metadata": {},
   "outputs": [
    {
     "name": "stdout",
     "output_type": "stream",
     "text": [
      "Annualized HPR = 7.65%\n"
     ]
    }
   ],
   "source": [
    "FV = np.cumprod(GrossReturn) # Multiplying the gross returns gives the accumulated value of investing $1 in the S&P 500\n",
    "T  = len(FV)/12 # The number of years for which we invested\n",
    "annHPR = FV.iloc[-1]**(1/T)-1 # The annualized HPR\n",
    "print(\"Annualized HPR = \"+\"{:.2%}\".format(r)); # Converts to percentage with two decimals"
   ]
  },
  {
   "cell_type": "markdown",
   "metadata": {},
   "source": [
    "#### (c)  In what month occurred the lowest monthly return? What happened?"
   ]
  },
  {
   "cell_type": "code",
   "execution_count": 65,
   "metadata": {},
   "outputs": [
    {
     "data": {
      "text/html": [
       "<div>\n",
       "<style>\n",
       "    .dataframe thead tr:only-child th {\n",
       "        text-align: right;\n",
       "    }\n",
       "\n",
       "    .dataframe thead th {\n",
       "        text-align: left;\n",
       "    }\n",
       "\n",
       "    .dataframe tbody tr th {\n",
       "        vertical-align: top;\n",
       "    }\n",
       "</style>\n",
       "<table border=\"1\" class=\"dataframe\">\n",
       "  <thead>\n",
       "    <tr style=\"text-align: right;\">\n",
       "      <th></th>\n",
       "      <th>Open</th>\n",
       "      <th>High</th>\n",
       "      <th>Low</th>\n",
       "      <th>Close</th>\n",
       "      <th>Adj Close</th>\n",
       "      <th>Volume</th>\n",
       "      <th>Return</th>\n",
       "    </tr>\n",
       "    <tr>\n",
       "      <th>Date</th>\n",
       "      <th></th>\n",
       "      <th></th>\n",
       "      <th></th>\n",
       "      <th></th>\n",
       "      <th></th>\n",
       "      <th></th>\n",
       "      <th></th>\n",
       "    </tr>\n",
       "  </thead>\n",
       "  <tbody>\n",
       "    <tr>\n",
       "      <th>1987-10-31</th>\n",
       "      <td>244.770004</td>\n",
       "      <td>254.039993</td>\n",
       "      <td>244.770004</td>\n",
       "      <td>251.789993</td>\n",
       "      <td>251.789993</td>\n",
       "      <td>303400000</td>\n",
       "      <td>-0.21763</td>\n",
       "    </tr>\n",
       "  </tbody>\n",
       "</table>\n",
       "</div>"
      ],
      "text/plain": [
       "                  Open        High         Low       Close   Adj Close  \\\n",
       "Date                                                                     \n",
       "1987-10-31  244.770004  254.039993  244.770004  251.789993  251.789993   \n",
       "\n",
       "               Volume   Return  \n",
       "Date                            \n",
       "1987-10-31  303400000 -0.21763  "
      ]
     },
     "execution_count": 65,
     "metadata": {},
     "output_type": "execute_result"
    }
   ],
   "source": [
    "r=sp500['Return'].min() #Min Return\n",
    "idx = np.where(sp500['Return']==r)\n",
    "sp500.iloc[idx]"
   ]
  },
  {
   "cell_type": "code",
   "execution_count": 66,
   "metadata": {},
   "outputs": [
    {
     "name": "stdout",
     "output_type": "stream",
     "text": [
      "Lowest monthly return = -21.76%\n"
     ]
    }
   ],
   "source": [
    "print(\"Lowest monthly return = \"+\"{:.2%}\".format(r)); # Converts to percentage with two decimals"
   ]
  },
  {
   "cell_type": "markdown",
   "metadata": {},
   "source": [
    "The worst month for the S&P 500 was October 1987 with a return of -21:763%. This was the famous crash of 1987, which was triggered on October 19, 1987 (known as Black Monday). See e.g.: [Black Monday](http://en.wikipedia.org/wiki/BlackMonday_(1987))"
   ]
  }
 ],
 "metadata": {
  "kernelspec": {
   "display_name": "Python 3",
   "language": "python",
   "name": "python3"
  },
  "language_info": {
   "codemirror_mode": {
    "name": "ipython",
    "version": 3
   },
   "file_extension": ".py",
   "mimetype": "text/x-python",
   "name": "python",
   "nbconvert_exporter": "python",
   "pygments_lexer": "ipython3",
   "version": "3.6.4"
  }
 },
 "nbformat": 4,
 "nbformat_minor": 2
}
